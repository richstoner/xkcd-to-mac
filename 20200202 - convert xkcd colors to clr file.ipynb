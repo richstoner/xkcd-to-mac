{
 "cells": [
  {
   "cell_type": "markdown",
   "metadata": {},
   "source": [
    "### Generate macOS-compatible color lists and place them into correct location"
   ]
  },
  {
   "cell_type": "code",
   "execution_count": 40,
   "metadata": {},
   "outputs": [],
   "source": [
    "# the source file, as a list of html color values and names\n",
    "input_file = './rgb.txt'"
   ]
  },
  {
   "cell_type": "code",
   "execution_count": 41,
   "metadata": {},
   "outputs": [
    {
     "name": "stdout",
     "output_type": "stream",
     "text": [
      "# License: http://creativecommons.org/publicdomain/zero/1.0/\r\n",
      "cloudy blue\t#acc2d9\t\r\n",
      "dark pastel green\t#56ae57\t\r\n",
      "dust\t#b2996e\t\r\n",
      "electric lime\t#a8ff04\t\r\n",
      "fresh green\t#69d84f\t\r\n",
      "light eggplant\t#894585\t\r\n",
      "nasty green\t#70b23f\t\r\n",
      "really light blue\t#d4ffff\t\r\n",
      "tea\t#65ab7c\t\r\n"
     ]
    }
   ],
   "source": [
    "!head './rgb.txt'"
   ]
  },
  {
   "cell_type": "markdown",
   "metadata": {},
   "source": [
    "The conversion tool expects an input like so:\n",
    "\n",
    "    #fa3ada Almost-Magenta\n",
    "    #cada32 Green-Mustard\n",
    "    #ff6347 Tomato\n",
    "    \n",
    "Therefore, we need to create an intermediate, then process that"
   ]
  },
  {
   "cell_type": "code",
   "execution_count": 46,
   "metadata": {},
   "outputs": [],
   "source": [
    "# We're going to sort the colors by their hue first (using colorsys)\n",
    "import colorsys\n",
    "\n",
    "# a dict: hex color -> label description\n",
    "unsorted_color_map = {}\n",
    "\n",
    "for line in open(input_file, 'r'):\n",
    "    if not line.startswith(\"#\"):\n",
    "        values = line.strip().split('\\t')\n",
    "        unsorted_color_map[values[1]] = values[0]\n",
    "        \n",
    "unsorted_colors_list = []\n",
    "for c in unsorted_color_map.keys():\n",
    "    r = int(c[1:3], 16)\n",
    "    g = int(c[3:5], 16)\n",
    "    b = int(c[5:7], 16)\n",
    "    hsv = colorsys.rgb_to_hsv(r,g,b)\n",
    "    unsorted_colors_list.append([hsv[0], hsv[1], hsv[2], c])\n",
    "\n",
    "sorted_colors_list = sorted(unsorted_colors_list)\n",
    "\n",
    "# now write this to a file\n",
    "intermediate_file = './xkcd_rgb.txt'\n",
    "fout = open(intermediate_file, 'w')        \n",
    "\n",
    "for _, _, _, hex_string in sorted_colors_list:\n",
    "    color_label = unsorted_color_map[hex_string]\n",
    "    fout.write(\"%s\\t%s\\n\" % (hex_string, color_label))\n",
    "fout.close()"
   ]
  },
  {
   "cell_type": "code",
   "execution_count": 47,
   "metadata": {},
   "outputs": [
    {
     "name": "stdout",
     "output_type": "stream",
     "text": [
      "#000000\tblack\r\n",
      "#ffffff\twhite\r\n",
      "#bb3f3f\tdull red\r\n",
      "#4b0101\tdried blood\r\n",
      "#840000\tdark red\r\n",
      "#e50000\tred\r\n",
      "#9a0200\tdeep red\r\n",
      "#4a0100\tmahogany\r\n",
      "#db5856\tpastel red\r\n",
      "#c44240\treddish\r\n"
     ]
    }
   ],
   "source": [
    "!head './xkcd_rgb.txt'"
   ]
  },
  {
   "cell_type": "markdown",
   "metadata": {},
   "source": [
    "### Now, invoke the htmlcolor tools command to create the clr output"
   ]
  },
  {
   "cell_type": "code",
   "execution_count": 48,
   "metadata": {},
   "outputs": [],
   "source": [
    "import os\n",
    "import subprocess\n",
    "\n",
    "full_bin_path = os.path.join(os.path.abspath(os.path.curdir), 'tools', 'ColorTools-0', 'Html2Clr')\n",
    "\n",
    "cmd_array = [\n",
    "    full_bin_path,\n",
    "    intermediate_file\n",
    "]\n",
    "\n",
    "result = subprocess.check_output(cmd_array)"
   ]
  },
  {
   "cell_type": "markdown",
   "metadata": {},
   "source": [
    "### Finally, running Html2Clr will install the palette"
   ]
  },
  {
   "cell_type": "code",
   "execution_count": 49,
   "metadata": {},
   "outputs": [],
   "source": [
    "cmd_array = [\n",
    "    full_bin_path,\n",
    "    intermediate_file,\n",
    "    '-i'\n",
    "]\n",
    "\n",
    "result = subprocess.check_output(cmd_array)"
   ]
  },
  {
   "cell_type": "code",
   "execution_count": null,
   "metadata": {},
   "outputs": [],
   "source": []
  }
 ],
 "metadata": {
  "kernelspec": {
   "display_name": "Python 3",
   "language": "python",
   "name": "python3"
  },
  "language_info": {
   "codemirror_mode": {
    "name": "ipython",
    "version": 3
   },
   "file_extension": ".py",
   "mimetype": "text/x-python",
   "name": "python",
   "nbconvert_exporter": "python",
   "pygments_lexer": "ipython3",
   "version": "3.7.3"
  }
 },
 "nbformat": 4,
 "nbformat_minor": 2
}
